{
 "cells": [
  {
   "cell_type": "code",
   "execution_count": 1,
   "id": "e92a5926-a2f1-4501-9259-85fcb5fa6f73",
   "metadata": {},
   "outputs": [],
   "source": [
    "def LegrandCode():\n",
    "    decbook = {'5': 'a', '2': 'b', '#':'d', '8':'e', '1':'f', '3':'g', '4':'h', '6':'i', '0':'l', '9': 'm',\n",
    "              '*':'n', '%': 'o', '=':'p', '(':'r', ')':'s', ';':'t', '?':'u', '@':'v', ':':'y', '7':' '}\n",
    "    encbook = {}\n",
    "    for i in decbook:\n",
    "        val = decbook[i]\n",
    "        encbook[val] = i\n",
    "    return encbook, decbook\n",
    "\n",
    "def encrypt(msg, encbook):\n",
    "    for i in msg:\n",
    "        if i in encbook:\n",
    "            msg = msg.replace(i, encbook[i])\n",
    "    return msg\n",
    "\n",
    "def decrypt(msg, decbook):\n",
    "    for i in msg:\n",
    "        if i in decbook:\n",
    "            msg = msg.replace(i, decbook[i])\n",
    "    return msg"
   ]
  },
  {
   "cell_type": "code",
   "execution_count": 2,
   "id": "22b29e70-c1a7-4d35-b2f5-715710e1f94d",
   "metadata": {},
   "outputs": [
    {
     "name": "stdout",
     "output_type": "stream",
     "text": [
      "M8((:7C4(6);95)\n",
      "Merry Christmas\n"
     ]
    }
   ],
   "source": [
    "if __name__ == '__main__':\n",
    "    plaintext = 'Merry Christmas'\n",
    "    encbook, decbook = LegrandCode()\n",
    "    ciphertext = encrypt(plaintext, encbook)\n",
    "    print(ciphertext)\n",
    "\n",
    "    deciphertext = decrypt(ciphertext, decbook)\n",
    "    print(deciphertext)"
   ]
  },
  {
   "cell_type": "code",
   "execution_count": 3,
   "id": "07251a65-d4d7-4df7-b249-32e641c02ea8",
   "metadata": {},
   "outputs": [],
   "source": [
    "string = \"Do not go gentle into that good night,\\\n",
    "Old age should burn and rave at close of day;\\\n",
    "Rage, rage against the dying of the light.\\\n",
    "Though wise men at their end know dark is right,\\\n",
    "Because their words had forked no lightning they\\\n",
    "Do not go gentle into that good night.\\\n",
    "Rage, rage against the dying of the light\"\n",
    "\n",
    "with open('string.txt', 'w') as file:\n",
    "    file.write(string)"
   ]
  },
  {
   "cell_type": "code",
   "execution_count": 4,
   "id": "542abae0-a980-4cc2-acac-c7114a573474",
   "metadata": {},
   "outputs": [],
   "source": [
    "if __name__ == '__main__':\n",
    "    h = open('string.txt', 'rt')\n",
    "    content = h.read()\n",
    "    h.close()\n",
    "\n",
    "    encbook, decbook = LegrandCode()\n",
    "    content = encrypt(content, encbook)\n",
    "\n",
    "    h = open('encryption.txt', 'wt+')\n",
    "    h.write(content)\n",
    "    h.close()"
   ]
  },
  {
   "cell_type": "markdown",
   "id": "659ce23b-9892-471c-ab35-622566b6fef3",
   "metadata": {},
   "source": [
    "file = open(root, '*')\\\n",
    "* \\* can be :\\\n",
    "  rt -> open txt read mode\\\n",
    "  rb -> open txt bin read mode\\\n",
    "  wt -> open txt write mode\\\n",
    "  wb -> open txt bin write mode\\\n",
    "  wt+ -> open txt read mode after write mode\\\n",
    "  wb+ -> open txt read mode after bin write mode\\\n",
    "  at -> txt adding mode after file make\\\n",
    "  ab -> txt bin adding mode after file make\n",
    "  "
   ]
  },
  {
   "cell_type": "code",
   "execution_count": null,
   "id": "bdd75668-2625-4fff-8f6f-8967a05d01ae",
   "metadata": {},
   "outputs": [],
   "source": []
  }
 ],
 "metadata": {
  "kernelspec": {
   "display_name": "Python 3 (ipykernel)",
   "language": "python",
   "name": "python3"
  },
  "language_info": {
   "codemirror_mode": {
    "name": "ipython",
    "version": 3
   },
   "file_extension": ".py",
   "mimetype": "text/x-python",
   "name": "python",
   "nbconvert_exporter": "python",
   "pygments_lexer": "ipython3",
   "version": "3.12.0"
  }
 },
 "nbformat": 4,
 "nbformat_minor": 5
}
