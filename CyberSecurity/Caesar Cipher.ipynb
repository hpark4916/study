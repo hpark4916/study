{
 "cells": [
  {
   "cell_type": "code",
   "execution_count": null,
   "id": "c27b2e67-cc8b-4c95-b071-21cac11428e8",
   "metadata": {},
   "outputs": [],
   "source": [
    "ENC = 0\n",
    "DEC = 1\n",
    "\n",
    "def makeDisk(key):\n",
    "    keytable = map(lambda x: (chr(x+65), x) range(26))\n",
    "    key2index = {}\n",
    "\n",
    "    for t in keytable:\n",
    "        alphabet, index = t[0], t[1]\n",
    "        key2index[alphabet] = index\n",
    "\n",
    "    if key in key2index:\n",
    "        k = key2index[key]\n",
    "    else:\n",
    "        return None, None\n",
    "\n",
    "\n",
    "    enc_disk = {}\n",
    "    dec_disk = {}\n",
    "\n",
    "    for i in range(26):\n",
    "        enc_i = (i+k)%26\n",
    "        enc_ascii = enc_i + 65\n",
    "        enc_disk[chr(i+65)] = chr[enc_ascii)\n",
    "        dec_disk[chr(enc_ascii)] = chr(i+65)\n",
    "\n",
    "    return enc_disk, dec_disk\n",
    "    "
   ]
  }
 ],
 "metadata": {
  "kernelspec": {
   "display_name": "Python 3 (ipykernel)",
   "language": "python",
   "name": "python3"
  },
  "language_info": {
   "codemirror_mode": {
    "name": "ipython",
    "version": 3
   },
   "file_extension": ".py",
   "mimetype": "text/x-python",
   "name": "python",
   "nbconvert_exporter": "python",
   "pygments_lexer": "ipython3",
   "version": "3.12.0"
  }
 },
 "nbformat": 4,
 "nbformat_minor": 5
}
