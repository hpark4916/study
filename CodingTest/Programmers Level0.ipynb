{
 "cells": [
  {
   "cell_type": "markdown",
   "id": "575b96f3-f25e-445a-a11e-cc3f1ade7420",
   "metadata": {},
   "source": [
    "https://school.programmers.co.kr/learn/courses/30/lessons/120583"
   ]
  },
  {
   "cell_type": "code",
   "execution_count": 1,
   "id": "6fb470f9-7acc-440b-a083-ddc8d8184dcc",
   "metadata": {},
   "outputs": [],
   "source": [
    "from collections import Counter\n",
    "def solution(array, n):\n",
    "    answer = Counter(array)[n]\n",
    "    return answer"
   ]
  },
  {
   "cell_type": "markdown",
   "id": "aad32e58-133a-440c-8c39-3e48a9fe58ab",
   "metadata": {},
   "source": [
    "https://school.programmers.co.kr/learn/courses/30/lessons/120841"
   ]
  },
  {
   "cell_type": "code",
   "execution_count": 2,
   "id": "601a5f9d-8830-464a-8c11-21cd0e5000a7",
   "metadata": {},
   "outputs": [],
   "source": [
    "def solution(dot):\n",
    "    answer = 0\n",
    "    if dot[0] > 0 and dot[1] > 0:\n",
    "        answer += 1\n",
    "    if dot[0] < 0 and dot[1] < 0:\n",
    "        answer += 3\n",
    "    if dot[0] > 0 and dot[1] < 0:\n",
    "        answer += 4\n",
    "    if dot[0] < 0 and dot[1] > 0:\n",
    "        answer += 2\n",
    "    return answer"
   ]
  },
  {
   "cell_type": "markdown",
   "id": "03090a41-fa37-427e-b4a1-258cc438b270",
   "metadata": {},
   "source": [
    "https://school.programmers.co.kr/learn/courses/30/lessons/120847"
   ]
  },
  {
   "cell_type": "code",
   "execution_count": 3,
   "id": "c8306328-64ed-410e-b2ad-7c9a4b3ba71a",
   "metadata": {},
   "outputs": [],
   "source": [
    "import math\n",
    "def solution(numbers):\n",
    "    answer = 0\n",
    "    df = []\n",
    "    df.append(max(numbers))\n",
    "    numbers.remove(max(numbers))\n",
    "    df.append(max(numbers))\n",
    "    return math.prod(df)"
   ]
  },
  {
   "cell_type": "markdown",
   "id": "d9998ba9-aef4-4748-adea-a9b9a33b9041",
   "metadata": {},
   "source": [
    "https://school.programmers.co.kr/learn/courses/30/lessons/120908"
   ]
  },
  {
   "cell_type": "code",
   "execution_count": 4,
   "id": "b560693f-47ec-4a9b-b478-2806f8680f3a",
   "metadata": {},
   "outputs": [],
   "source": [
    "def solution(str1, str2):\n",
    "    answer = 0\n",
    "    if str2 in str1:\n",
    "        answer += 1\n",
    "    else:\n",
    "        answer += 2\n",
    "    return answer"
   ]
  },
  {
   "cell_type": "markdown",
   "id": "f3b3fba6-64d2-463f-a4b5-2bcae2439fbd",
   "metadata": {},
   "source": [
    "https://school.programmers.co.kr/learn/courses/30/lessons/120836"
   ]
  },
  {
   "cell_type": "code",
   "execution_count": 5,
   "id": "adc04c3c-2163-451b-a5cb-9c964b5058c2",
   "metadata": {},
   "outputs": [],
   "source": [
    "def solution(n):\n",
    "    answer = 0\n",
    "    for i in range(1, n+1):\n",
    "        if n % i == 0:\n",
    "            answer += 1\n",
    "    return answer"
   ]
  },
  {
   "cell_type": "markdown",
   "id": "397a3c67-4100-4e4c-b398-f2904b4ebd4a",
   "metadata": {},
   "source": [
    "https://school.programmers.co.kr/learn/courses/30/lessons/181848"
   ]
  },
  {
   "cell_type": "code",
   "execution_count": 6,
   "id": "a5cab55f-671f-44a0-9270-f1e9a34422ac",
   "metadata": {},
   "outputs": [],
   "source": [
    "def solution(n_str):\n",
    "    return int(n_str) "
   ]
  },
  {
   "cell_type": "markdown",
   "id": "b32fa58d-2901-4347-acd1-327d8a49e3d9",
   "metadata": {},
   "source": [
    "https://school.programmers.co.kr/learn/courses/30/lessons/120903"
   ]
  },
  {
   "cell_type": "code",
   "execution_count": 7,
   "id": "8d46ef61-fe11-4e6f-9be9-ce2bc09a9434",
   "metadata": {},
   "outputs": [],
   "source": [
    "def solution(s1, s2):\n",
    "    answer = 0\n",
    "    for i in s1:\n",
    "        if i in s2:\n",
    "            answer += 1\n",
    "    return answer"
   ]
  },
  {
   "cell_type": "markdown",
   "id": "b79bab3a-d0ec-41dc-a27b-afa70364555b",
   "metadata": {},
   "source": [
    "https://school.programmers.co.kr/learn/courses/30/lessons/181920"
   ]
  },
  {
   "cell_type": "code",
   "execution_count": 8,
   "id": "928fe36c-9864-457c-83d2-087aa7626629",
   "metadata": {},
   "outputs": [],
   "source": [
    "def solution(start_num, end_num):\n",
    "    answer = []\n",
    "    for i in range(start_num, end_num+1):\n",
    "        answer.append(i)\n",
    "    return answer"
   ]
  },
  {
   "cell_type": "markdown",
   "id": "ba17a88d-3579-42fb-9d3b-5a86eca2e0b9",
   "metadata": {},
   "source": [
    "https://school.programmers.co.kr/learn/courses/30/lessons/120849"
   ]
  },
  {
   "cell_type": "code",
   "execution_count": 9,
   "id": "d3451b93-5724-43ba-af24-e5506151498e",
   "metadata": {},
   "outputs": [],
   "source": [
    "def solution(my_string):\n",
    "    data = ('a','e','i','o','u')\n",
    "    for i in data:\n",
    "        my_string = my_string.replace(i, \"\")\n",
    "    return my_string"
   ]
  },
  {
   "cell_type": "markdown",
   "id": "4afd26ce-e9dc-4b2c-8462-1ca07b0149d8",
   "metadata": {},
   "source": [
    "https://school.programmers.co.kr/learn/courses/30/lessons/181935"
   ]
  },
  {
   "cell_type": "code",
   "execution_count": 10,
   "id": "25bef66c-a583-4848-b28b-6a65b13a78af",
   "metadata": {},
   "outputs": [],
   "source": [
    "import math\n",
    "def solution(n):\n",
    "    answer = 0\n",
    "    if n % 2 == 1:\n",
    "        for i in range(1, n+1):\n",
    "            if i % 2 == 1:\n",
    "                answer += i\n",
    "    else:\n",
    "        for j in range(1, n+1):\n",
    "            if j % 2 == 0:\n",
    "                answer += j**2\n",
    "                \n",
    "    return answer"
   ]
  },
  {
   "cell_type": "markdown",
   "id": "634c5907-3fd9-454e-864d-55d8170532eb",
   "metadata": {},
   "source": [
    "https://school.programmers.co.kr/learn/courses/30/lessons/181899"
   ]
  },
  {
   "cell_type": "code",
   "execution_count": 11,
   "id": "803db399-1fec-462b-bd47-3ed82d0377de",
   "metadata": {},
   "outputs": [],
   "source": [
    "def solution(start, end_num):\n",
    "    answer = []\n",
    "    for i in range(end_num, start+1):\n",
    "        answer.append(i)\n",
    "    return sorted(answer, reverse = True)"
   ]
  },
  {
   "cell_type": "markdown",
   "id": "59cc219e-9378-459d-8f22-6d5540a820d4",
   "metadata": {},
   "source": [
    "https://school.programmers.co.kr/learn/courses/30/lessons/181876"
   ]
  },
  {
   "cell_type": "code",
   "execution_count": 12,
   "id": "fb777f29-d938-4d2c-a039-c4443f212b79",
   "metadata": {},
   "outputs": [],
   "source": [
    "def solution(myString):\n",
    "    answer = myString\n",
    "    return answer.lower()"
   ]
  },
  {
   "cell_type": "markdown",
   "id": "3eae185f-2f07-445c-8ae1-1e4a91109809",
   "metadata": {},
   "source": [
    "https://school.programmers.co.kr/learn/courses/30/lessons/181926"
   ]
  },
  {
   "cell_type": "code",
   "execution_count": 13,
   "id": "d3605a69-aa5a-4e72-b74e-87798b83b4ed",
   "metadata": {},
   "outputs": [],
   "source": [
    "def solution(n, control):\n",
    "    answer = n\n",
    "    for i in control:\n",
    "        if i == \"w\":\n",
    "            answer += 1\n",
    "        elif i == \"s\":\n",
    "            answer -= 1\n",
    "        elif i == \"d\":\n",
    "            answer += 10\n",
    "        elif i == \"a\":\n",
    "            answer -= 10\n",
    "    return answer"
   ]
  },
  {
   "cell_type": "markdown",
   "id": "c93c8d0e-be54-48de-92ed-e69333472210",
   "metadata": {},
   "source": [
    "https://school.programmers.co.kr/learn/courses/30/lessons/181937"
   ]
  },
  {
   "cell_type": "code",
   "execution_count": 14,
   "id": "a8bda027-05e5-4ce2-ad84-9dba4fe09738",
   "metadata": {},
   "outputs": [],
   "source": [
    "def solution(num, n):\n",
    "    answer = 0\n",
    "    if num % n == 0:\n",
    "        answer += 1\n",
    "    return answer"
   ]
  },
  {
   "cell_type": "markdown",
   "id": "4a70d67d-f1eb-405c-93e0-4555598dae86",
   "metadata": {},
   "source": [
    "https://school.programmers.co.kr/learn/courses/30/lessons/181936"
   ]
  },
  {
   "cell_type": "code",
   "execution_count": 15,
   "id": "562721b8-448b-46d5-a7f9-b45484849df2",
   "metadata": {},
   "outputs": [],
   "source": [
    "def solution(number, n, m):\n",
    "    answer = 0\n",
    "    if number % n == 0 and number % m == 0:\n",
    "        answer += 1\n",
    "    return answer"
   ]
  },
  {
   "cell_type": "markdown",
   "id": "974b987f-0838-4e08-ac89-56733f713daf",
   "metadata": {},
   "source": [
    "https://school.programmers.co.kr/learn/courses/30/lessons/181877"
   ]
  },
  {
   "cell_type": "code",
   "execution_count": 16,
   "id": "edd31aa6-f67d-410d-8f5c-917eefdf8734",
   "metadata": {},
   "outputs": [],
   "source": [
    "def solution(myString):\n",
    "    return myString.upper()"
   ]
  },
  {
   "cell_type": "markdown",
   "id": "be964f9d-a373-4ca2-a7c9-383cc4c51815",
   "metadata": {},
   "source": [
    "https://school.programmers.co.kr/learn/courses/30/lessons/181946"
   ]
  },
  {
   "cell_type": "code",
   "execution_count": 20,
   "id": "97eb8c41-e81c-45d8-912b-b66a862725ee",
   "metadata": {
    "scrolled": true
   },
   "outputs": [
    {
     "name": "stdin",
     "output_type": "stream",
     "text": [
      " 10 10\n"
     ]
    },
    {
     "name": "stdout",
     "output_type": "stream",
     "text": [
      "1010\n"
     ]
    }
   ],
   "source": [
    "str1, str2 = input().strip().split(' ')\n",
    "df = [str1, str2]\n",
    "print(\"\".join(df))"
   ]
  },
  {
   "cell_type": "markdown",
   "id": "5b19d9a6-5c78-4e52-8974-7ecba283489b",
   "metadata": {},
   "source": [
    "https://school.programmers.co.kr/learn/courses/30/lessons/181938"
   ]
  },
  {
   "cell_type": "code",
   "execution_count": 18,
   "id": "630431b2-bf53-42f4-90cf-4517c89dc9e3",
   "metadata": {},
   "outputs": [],
   "source": [
    "def solution(a, b):\n",
    "    answer = 0\n",
    "    plus = int(str(a) + str(b))\n",
    "    prod = 2 * a * b\n",
    "    if plus >= prod:\n",
    "        answer += plus\n",
    "    else:\n",
    "        answer += prod      \n",
    "    \n",
    "    return answer"
   ]
  },
  {
   "cell_type": "markdown",
   "id": "1cbb0ca6-545e-47a0-948e-eab0ab533b2f",
   "metadata": {},
   "source": [
    "https://school.programmers.co.kr/learn/courses/30/lessons/181944"
   ]
  },
  {
   "cell_type": "code",
   "execution_count": 19,
   "id": "c4a547f9-b04f-4ed0-a505-5c3f0542d322",
   "metadata": {},
   "outputs": [
    {
     "name": "stdin",
     "output_type": "stream",
     "text": [
      " 10\n"
     ]
    },
    {
     "name": "stdout",
     "output_type": "stream",
     "text": [
      "10 is even\n"
     ]
    }
   ],
   "source": [
    "a = int(input())\n",
    "\n",
    "if a % 2 == 0:\n",
    "    print(f\"{a} is even\")\n",
    "else:\n",
    "    print(f\"{a} is odd\")"
   ]
  },
  {
   "cell_type": "markdown",
   "id": "7ea99a68-2b25-473e-9a76-c3576ca01ad3",
   "metadata": {},
   "source": [
    "https://school.programmers.co.kr/learn/courses/30/lessons/181896"
   ]
  },
  {
   "cell_type": "code",
   "execution_count": 21,
   "id": "2e853da2-e894-438d-ae51-d153920c90c3",
   "metadata": {},
   "outputs": [],
   "source": [
    "def solution(num_list):\n",
    "    answer = 0\n",
    "    for i in num_list:\n",
    "        if i < 0:\n",
    "            answer = num_list.index(i)\n",
    "            break\n",
    "        else: \n",
    "            answer = -1\n",
    "\n",
    "    return answer"
   ]
  },
  {
   "cell_type": "code",
   "execution_count": null,
   "id": "2b9ba2f9-2a0a-443f-9aca-6a82277dbbf1",
   "metadata": {},
   "outputs": [],
   "source": []
  }
 ],
 "metadata": {
  "kernelspec": {
   "display_name": "Python 3 (ipykernel)",
   "language": "python",
   "name": "python3"
  },
  "language_info": {
   "codemirror_mode": {
    "name": "ipython",
    "version": 3
   },
   "file_extension": ".py",
   "mimetype": "text/x-python",
   "name": "python",
   "nbconvert_exporter": "python",
   "pygments_lexer": "ipython3",
   "version": "3.12.0"
  }
 },
 "nbformat": 4,
 "nbformat_minor": 5
}
