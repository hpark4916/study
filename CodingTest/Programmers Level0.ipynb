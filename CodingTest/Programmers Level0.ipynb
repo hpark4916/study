{
 "cells": [
  {
   "cell_type": "markdown",
   "id": "575b96f3-f25e-445a-a11e-cc3f1ade7420",
   "metadata": {},
   "source": [
    "https://school.programmers.co.kr/learn/courses/30/lessons/120583"
   ]
  },
  {
   "cell_type": "code",
   "execution_count": 1,
   "id": "6fb470f9-7acc-440b-a083-ddc8d8184dcc",
   "metadata": {},
   "outputs": [],
   "source": [
    "from collections import Counter\n",
    "def solution(array, n):\n",
    "    answer = Counter(array)[n]\n",
    "    return answer"
   ]
  },
  {
   "cell_type": "markdown",
   "id": "aad32e58-133a-440c-8c39-3e48a9fe58ab",
   "metadata": {},
   "source": [
    "https://school.programmers.co.kr/learn/courses/30/lessons/120841"
   ]
  },
  {
   "cell_type": "code",
   "execution_count": 2,
   "id": "601a5f9d-8830-464a-8c11-21cd0e5000a7",
   "metadata": {},
   "outputs": [],
   "source": [
    "def solution(dot):\n",
    "    answer = 0\n",
    "    if dot[0] > 0 and dot[1] > 0:\n",
    "        answer += 1\n",
    "    if dot[0] < 0 and dot[1] < 0:\n",
    "        answer += 3\n",
    "    if dot[0] > 0 and dot[1] < 0:\n",
    "        answer += 4\n",
    "    if dot[0] < 0 and dot[1] > 0:\n",
    "        answer += 2\n",
    "    return answer"
   ]
  },
  {
   "cell_type": "markdown",
   "id": "03090a41-fa37-427e-b4a1-258cc438b270",
   "metadata": {},
   "source": [
    "https://school.programmers.co.kr/learn/courses/30/lessons/120847"
   ]
  },
  {
   "cell_type": "code",
   "execution_count": 3,
   "id": "c8306328-64ed-410e-b2ad-7c9a4b3ba71a",
   "metadata": {},
   "outputs": [],
   "source": [
    "import math\n",
    "def solution(numbers):\n",
    "    answer = 0\n",
    "    df = []\n",
    "    df.append(max(numbers))\n",
    "    numbers.remove(max(numbers))\n",
    "    df.append(max(numbers))\n",
    "    return math.prod(df)"
   ]
  },
  {
   "cell_type": "markdown",
   "id": "d9998ba9-aef4-4748-adea-a9b9a33b9041",
   "metadata": {},
   "source": [
    "https://school.programmers.co.kr/learn/courses/30/lessons/120908"
   ]
  },
  {
   "cell_type": "code",
   "execution_count": 4,
   "id": "b560693f-47ec-4a9b-b478-2806f8680f3a",
   "metadata": {},
   "outputs": [],
   "source": [
    "def solution(str1, str2):\n",
    "    answer = 0\n",
    "    if str2 in str1:\n",
    "        answer += 1\n",
    "    else:\n",
    "        answer += 2\n",
    "    return answer"
   ]
  },
  {
   "cell_type": "markdown",
   "id": "f3b3fba6-64d2-463f-a4b5-2bcae2439fbd",
   "metadata": {},
   "source": [
    "https://school.programmers.co.kr/learn/courses/30/lessons/120836"
   ]
  },
  {
   "cell_type": "code",
   "execution_count": 5,
   "id": "adc04c3c-2163-451b-a5cb-9c964b5058c2",
   "metadata": {},
   "outputs": [],
   "source": [
    "def solution(n):\n",
    "    answer = 0\n",
    "    for i in range(1, n+1):\n",
    "        if n % i == 0:\n",
    "            answer += 1\n",
    "    return answer"
   ]
  },
  {
   "cell_type": "markdown",
   "id": "397a3c67-4100-4e4c-b398-f2904b4ebd4a",
   "metadata": {},
   "source": [
    "https://school.programmers.co.kr/learn/courses/30/lessons/181848"
   ]
  },
  {
   "cell_type": "code",
   "execution_count": 6,
   "id": "a5cab55f-671f-44a0-9270-f1e9a34422ac",
   "metadata": {},
   "outputs": [],
   "source": [
    "def solution(n_str):\n",
    "    return int(n_str) "
   ]
  },
  {
   "cell_type": "markdown",
   "id": "b32fa58d-2901-4347-acd1-327d8a49e3d9",
   "metadata": {},
   "source": [
    "https://school.programmers.co.kr/learn/courses/30/lessons/120903"
   ]
  },
  {
   "cell_type": "code",
   "execution_count": 7,
   "id": "8d46ef61-fe11-4e6f-9be9-ce2bc09a9434",
   "metadata": {},
   "outputs": [],
   "source": [
    "def solution(s1, s2):\n",
    "    answer = 0\n",
    "    for i in s1:\n",
    "        if i in s2:\n",
    "            answer += 1\n",
    "    return answer"
   ]
  },
  {
   "cell_type": "markdown",
   "id": "b79bab3a-d0ec-41dc-a27b-afa70364555b",
   "metadata": {},
   "source": [
    "https://school.programmers.co.kr/learn/courses/30/lessons/181920"
   ]
  },
  {
   "cell_type": "code",
   "execution_count": 8,
   "id": "928fe36c-9864-457c-83d2-087aa7626629",
   "metadata": {},
   "outputs": [],
   "source": [
    "def solution(start_num, end_num):\n",
    "    answer = []\n",
    "    for i in range(start_num, end_num+1):\n",
    "        answer.append(i)\n",
    "    return answer"
   ]
  },
  {
   "cell_type": "markdown",
   "id": "ba17a88d-3579-42fb-9d3b-5a86eca2e0b9",
   "metadata": {},
   "source": [
    "https://school.programmers.co.kr/learn/courses/30/lessons/120849"
   ]
  },
  {
   "cell_type": "code",
   "execution_count": 9,
   "id": "d3451b93-5724-43ba-af24-e5506151498e",
   "metadata": {},
   "outputs": [],
   "source": [
    "def solution(my_string):\n",
    "    data = ('a','e','i','o','u')\n",
    "    for i in data:\n",
    "        my_string = my_string.replace(i, \"\")\n",
    "    return my_string"
   ]
  },
  {
   "cell_type": "markdown",
   "id": "4afd26ce-e9dc-4b2c-8462-1ca07b0149d8",
   "metadata": {},
   "source": [
    "https://school.programmers.co.kr/learn/courses/30/lessons/181935"
   ]
  },
  {
   "cell_type": "code",
   "execution_count": 10,
   "id": "25bef66c-a583-4848-b28b-6a65b13a78af",
   "metadata": {},
   "outputs": [],
   "source": [
    "import math\n",
    "def solution(n):\n",
    "    answer = 0\n",
    "    if n % 2 == 1:\n",
    "        for i in range(1, n+1):\n",
    "            if i % 2 == 1:\n",
    "                answer += i\n",
    "    else:\n",
    "        for j in range(1, n+1):\n",
    "            if j % 2 == 0:\n",
    "                answer += j**2\n",
    "                \n",
    "    return answer"
   ]
  },
  {
   "cell_type": "markdown",
   "id": "634c5907-3fd9-454e-864d-55d8170532eb",
   "metadata": {},
   "source": [
    "https://school.programmers.co.kr/learn/courses/30/lessons/181899"
   ]
  },
  {
   "cell_type": "code",
   "execution_count": 11,
   "id": "803db399-1fec-462b-bd47-3ed82d0377de",
   "metadata": {},
   "outputs": [],
   "source": [
    "def solution(start, end_num):\n",
    "    answer = []\n",
    "    for i in range(end_num, start+1):\n",
    "        answer.append(i)\n",
    "    return sorted(answer, reverse = True)"
   ]
  },
  {
   "cell_type": "markdown",
   "id": "59cc219e-9378-459d-8f22-6d5540a820d4",
   "metadata": {},
   "source": [
    "https://school.programmers.co.kr/learn/courses/30/lessons/181876"
   ]
  },
  {
   "cell_type": "code",
   "execution_count": 12,
   "id": "fb777f29-d938-4d2c-a039-c4443f212b79",
   "metadata": {},
   "outputs": [],
   "source": [
    "def solution(myString):\n",
    "    answer = myString\n",
    "    return answer.lower()"
   ]
  },
  {
   "cell_type": "markdown",
   "id": "3eae185f-2f07-445c-8ae1-1e4a91109809",
   "metadata": {},
   "source": [
    "https://school.programmers.co.kr/learn/courses/30/lessons/181926"
   ]
  },
  {
   "cell_type": "code",
   "execution_count": 13,
   "id": "d3605a69-aa5a-4e72-b74e-87798b83b4ed",
   "metadata": {},
   "outputs": [],
   "source": [
    "def solution(n, control):\n",
    "    answer = n\n",
    "    for i in control:\n",
    "        if i == \"w\":\n",
    "            answer += 1\n",
    "        elif i == \"s\":\n",
    "            answer -= 1\n",
    "        elif i == \"d\":\n",
    "            answer += 10\n",
    "        elif i == \"a\":\n",
    "            answer -= 10\n",
    "    return answer"
   ]
  },
  {
   "cell_type": "markdown",
   "id": "c93c8d0e-be54-48de-92ed-e69333472210",
   "metadata": {},
   "source": [
    "https://school.programmers.co.kr/learn/courses/30/lessons/181937"
   ]
  },
  {
   "cell_type": "code",
   "execution_count": 14,
   "id": "a8bda027-05e5-4ce2-ad84-9dba4fe09738",
   "metadata": {},
   "outputs": [],
   "source": [
    "def solution(num, n):\n",
    "    answer = 0\n",
    "    if num % n == 0:\n",
    "        answer += 1\n",
    "    return answer"
   ]
  },
  {
   "cell_type": "markdown",
   "id": "4a70d67d-f1eb-405c-93e0-4555598dae86",
   "metadata": {},
   "source": [
    "https://school.programmers.co.kr/learn/courses/30/lessons/181936"
   ]
  },
  {
   "cell_type": "code",
   "execution_count": 15,
   "id": "562721b8-448b-46d5-a7f9-b45484849df2",
   "metadata": {},
   "outputs": [],
   "source": [
    "def solution(number, n, m):\n",
    "    answer = 0\n",
    "    if number % n == 0 and number % m == 0:\n",
    "        answer += 1\n",
    "    return answer"
   ]
  },
  {
   "cell_type": "markdown",
   "id": "974b987f-0838-4e08-ac89-56733f713daf",
   "metadata": {},
   "source": [
    "https://school.programmers.co.kr/learn/courses/30/lessons/181877"
   ]
  },
  {
   "cell_type": "code",
   "execution_count": 16,
   "id": "edd31aa6-f67d-410d-8f5c-917eefdf8734",
   "metadata": {},
   "outputs": [],
   "source": [
    "def solution(myString):\n",
    "    return myString.upper()"
   ]
  },
  {
   "cell_type": "markdown",
   "id": "be964f9d-a373-4ca2-a7c9-383cc4c51815",
   "metadata": {},
   "source": [
    "https://school.programmers.co.kr/learn/courses/30/lessons/181946"
   ]
  },
  {
   "cell_type": "code",
   "execution_count": 20,
   "id": "97eb8c41-e81c-45d8-912b-b66a862725ee",
   "metadata": {
    "scrolled": true
   },
   "outputs": [
    {
     "name": "stdin",
     "output_type": "stream",
     "text": [
      " 10 10\n"
     ]
    },
    {
     "name": "stdout",
     "output_type": "stream",
     "text": [
      "1010\n"
     ]
    }
   ],
   "source": [
    "str1, str2 = input().strip().split(' ')\n",
    "df = [str1, str2]\n",
    "print(\"\".join(df))"
   ]
  },
  {
   "cell_type": "markdown",
   "id": "5b19d9a6-5c78-4e52-8974-7ecba283489b",
   "metadata": {},
   "source": [
    "https://school.programmers.co.kr/learn/courses/30/lessons/181938"
   ]
  },
  {
   "cell_type": "code",
   "execution_count": 18,
   "id": "630431b2-bf53-42f4-90cf-4517c89dc9e3",
   "metadata": {},
   "outputs": [],
   "source": [
    "def solution(a, b):\n",
    "    answer = 0\n",
    "    plus = int(str(a) + str(b))\n",
    "    prod = 2 * a * b\n",
    "    if plus >= prod:\n",
    "        answer += plus\n",
    "    else:\n",
    "        answer += prod      \n",
    "    \n",
    "    return answer"
   ]
  },
  {
   "cell_type": "markdown",
   "id": "1cbb0ca6-545e-47a0-948e-eab0ab533b2f",
   "metadata": {},
   "source": [
    "https://school.programmers.co.kr/learn/courses/30/lessons/181944"
   ]
  },
  {
   "cell_type": "code",
   "execution_count": 19,
   "id": "c4a547f9-b04f-4ed0-a505-5c3f0542d322",
   "metadata": {},
   "outputs": [
    {
     "name": "stdin",
     "output_type": "stream",
     "text": [
      " 10\n"
     ]
    },
    {
     "name": "stdout",
     "output_type": "stream",
     "text": [
      "10 is even\n"
     ]
    }
   ],
   "source": [
    "a = int(input())\n",
    "\n",
    "if a % 2 == 0:\n",
    "    print(f\"{a} is even\")\n",
    "else:\n",
    "    print(f\"{a} is odd\")"
   ]
  },
  {
   "cell_type": "markdown",
   "id": "7ea99a68-2b25-473e-9a76-c3576ca01ad3",
   "metadata": {},
   "source": [
    "https://school.programmers.co.kr/learn/courses/30/lessons/181896"
   ]
  },
  {
   "cell_type": "code",
   "execution_count": 21,
   "id": "2e853da2-e894-438d-ae51-d153920c90c3",
   "metadata": {},
   "outputs": [],
   "source": [
    "def solution(num_list):\n",
    "    answer = 0\n",
    "    for i in num_list:\n",
    "        if i < 0:\n",
    "            answer = num_list.index(i)\n",
    "            break\n",
    "        else: \n",
    "            answer = -1\n",
    "\n",
    "    return answer"
   ]
  },
  {
   "cell_type": "markdown",
   "id": "388a6791-6a43-47e1-83a2-3ceda5ecdd33",
   "metadata": {},
   "source": [
    "https://school.programmers.co.kr/learn/courses/30/lessons/181863"
   ]
  },
  {
   "cell_type": "code",
   "execution_count": 1,
   "id": "da997b4c-b831-414c-bf8c-7f985e2bceee",
   "metadata": {},
   "outputs": [],
   "source": [
    "def solution(rny_string):\n",
    "    rny_string = rny_string.replace(\"m\", \"rn\")\n",
    "    return rny_string"
   ]
  },
  {
   "cell_type": "markdown",
   "id": "4310c24c-cd75-4c36-9a59-7012db714565",
   "metadata": {},
   "source": [
    "https://school.programmers.co.kr/learn/courses/30/lessons/181907"
   ]
  },
  {
   "cell_type": "code",
   "execution_count": 2,
   "id": "7ffe6930-5a73-4c4d-b659-8a04229ff593",
   "metadata": {},
   "outputs": [],
   "source": [
    "def solution(my_string, n):\n",
    "    return my_string[:n]"
   ]
  },
  {
   "cell_type": "markdown",
   "id": "b9a20850-a4ef-44b2-8d8b-9b6e9134ce70",
   "metadata": {},
   "source": [
    "https://school.programmers.co.kr/learn/courses/30/lessons/181850"
   ]
  },
  {
   "cell_type": "code",
   "execution_count": 3,
   "id": "1c0f3b80-ab84-4a02-a4dc-54eb43a7b465",
   "metadata": {},
   "outputs": [],
   "source": [
    "def solution(flo):\n",
    "    answer = flo\n",
    "    return int(answer)"
   ]
  },
  {
   "cell_type": "markdown",
   "id": "fac5ae7c-626d-414c-8bb4-b15f64197e2a",
   "metadata": {},
   "source": [
    "https://school.programmers.co.kr/learn/courses/30/lessons/181940"
   ]
  },
  {
   "cell_type": "code",
   "execution_count": 4,
   "id": "fe59b1f0-b0d9-4e8c-b4e4-790558a1395f",
   "metadata": {},
   "outputs": [],
   "source": [
    "def solution(my_string, k):\n",
    "    answer = my_string\n",
    "    return answer*k"
   ]
  },
  {
   "cell_type": "markdown",
   "id": "06e6ac8b-590f-49f1-b44e-94d7fec7cddf",
   "metadata": {},
   "source": [
    "https://school.programmers.co.kr/learn/courses/30/lessons/181901"
   ]
  },
  {
   "cell_type": "code",
   "execution_count": 5,
   "id": "b01c8e27-1943-4df6-a2e8-e746353467a7",
   "metadata": {},
   "outputs": [],
   "source": [
    "def solution(n, k):\n",
    "    answer = []\n",
    "    for i in range(1, n+1):\n",
    "        if i % k == 0:\n",
    "            answer.append(i)\n",
    "    return answer"
   ]
  },
  {
   "cell_type": "markdown",
   "id": "2cfad7c0-d74d-43a2-b585-e23cc7abe9ce",
   "metadata": {},
   "source": [
    "https://school.programmers.co.kr/learn/courses/30/lessons/181906"
   ]
  },
  {
   "cell_type": "code",
   "execution_count": 6,
   "id": "72e0f0e3-5b6d-42a6-bd1b-4e1fbe6499cc",
   "metadata": {},
   "outputs": [],
   "source": [
    "def solution(my_string, is_prefix):\n",
    "    answer = 0\n",
    "    df = []\n",
    "    for i in range(len(my_string)):\n",
    "        df.append(my_string[:i+1])\n",
    "    if is_prefix in df:\n",
    "        answer = 1\n",
    "    else:\n",
    "        answer = 0\n",
    "    return answer"
   ]
  },
  {
   "cell_type": "markdown",
   "id": "296083e4-871b-4f9e-873b-7fb2c69214e7",
   "metadata": {},
   "source": [
    "https://school.programmers.co.kr/learn/courses/30/lessons/181929"
   ]
  },
  {
   "cell_type": "code",
   "execution_count": 7,
   "id": "811cda11-1ae7-4043-a7bd-ff3e120d9d2d",
   "metadata": {},
   "outputs": [],
   "source": [
    "import math\n",
    "def solution(num_list):\n",
    "    answer = 0\n",
    "    plus = sum(num_list) ** 2\n",
    "    prod = math.prod(num_list)\n",
    "    \n",
    "    if plus > prod:\n",
    "        answer = 1\n",
    "    else:\n",
    "        answer = 0\n",
    "    \n",
    "    \n",
    "    return answer"
   ]
  },
  {
   "cell_type": "markdown",
   "id": "42986a2f-2161-4715-badb-c15a6d5af148",
   "metadata": {},
   "source": [
    "https://school.programmers.co.kr/learn/courses/30/lessons/181845"
   ]
  },
  {
   "cell_type": "code",
   "execution_count": 8,
   "id": "5af81bf3-fb05-46b3-8323-c044d7c6f002",
   "metadata": {},
   "outputs": [],
   "source": [
    "def solution(n):\n",
    "    return str(n)"
   ]
  },
  {
   "cell_type": "markdown",
   "id": "05f6261d-63b2-4c17-9ac3-bd7b55efbe63",
   "metadata": {},
   "source": [
    "https://school.programmers.co.kr/learn/courses/30/lessons/181839"
   ]
  },
  {
   "cell_type": "code",
   "execution_count": 9,
   "id": "bdf67594-caa5-4b97-9141-13ee147a4a97",
   "metadata": {},
   "outputs": [],
   "source": [
    "def solution(a, b):\n",
    "    answer = 0\n",
    "    if a % 2 == 1 and b % 2 == 1:\n",
    "        answer = a**2 + b**2\n",
    "    elif a or b % 2 == 1:\n",
    "        answer = 2 * (a+b)\n",
    "    if a % 2 == 0 and b % 2 == 0:\n",
    "        answer = abs(a-b)\n",
    "    \n",
    "    return answer"
   ]
  },
  {
   "cell_type": "markdown",
   "id": "27782023-d6e5-4f6c-b560-3d575453f056",
   "metadata": {},
   "source": [
    "https://school.programmers.co.kr/learn/courses/30/lessons/181889"
   ]
  },
  {
   "cell_type": "code",
   "execution_count": 10,
   "id": "66a1d374-19a8-4f15-a90a-3ca575c53d67",
   "metadata": {},
   "outputs": [],
   "source": [
    "def solution(num_list, n):\n",
    "    answer = num_list\n",
    "    return answer[:n]"
   ]
  },
  {
   "cell_type": "markdown",
   "id": "e01975be-e65c-4b19-9314-e9b9dd291af2",
   "metadata": {},
   "source": [
    "https://school.programmers.co.kr/learn/courses/30/lessons/181891"
   ]
  },
  {
   "cell_type": "code",
   "execution_count": 11,
   "id": "6dd51282-6d9d-4999-aa7d-3fa45f8515c1",
   "metadata": {},
   "outputs": [],
   "source": [
    "def solution(num_list, n):\n",
    "    df = num_list[n:]\n",
    "    df2 = num_list[:n]\n",
    "    \n",
    "    df.extend(df2)\n",
    "    \n",
    "    return df"
   ]
  },
  {
   "cell_type": "markdown",
   "id": "204e90a8-2afa-4e0c-92c8-92f637164074",
   "metadata": {},
   "source": [
    "https://school.programmers.co.kr/learn/courses/30/lessons/181882"
   ]
  },
  {
   "cell_type": "code",
   "execution_count": 12,
   "id": "3e6c053e-8822-4577-8337-eb1c2153f6e0",
   "metadata": {},
   "outputs": [],
   "source": [
    "def solution(arr):\n",
    "    answer = []\n",
    "    for i in arr:\n",
    "        if i >= 50 and i % 2 == 0:\n",
    "            answer.append(i/2)\n",
    "        elif i <= 50 and i % 2 == 1:\n",
    "            answer.append(i*2)\n",
    "        else:\n",
    "            answer.append(i)\n",
    "    return answer"
   ]
  },
  {
   "cell_type": "markdown",
   "id": "af88a4fe-3a6f-4435-a78a-996b644038e2",
   "metadata": {},
   "source": [
    "https://school.programmers.co.kr/learn/courses/30/lessons/120905"
   ]
  },
  {
   "cell_type": "code",
   "execution_count": 13,
   "id": "0dc2b4ff-9345-4327-a817-12a895c77f95",
   "metadata": {},
   "outputs": [],
   "source": [
    "def solution(n, numlist):\n",
    "    answer = []\n",
    "    for i in numlist:\n",
    "        if i % n == 0:\n",
    "            answer.append(i)\n",
    "    return answer"
   ]
  },
  {
   "cell_type": "markdown",
   "id": "c0ac4ca1-acf6-4fa4-b96b-1e8c30423332",
   "metadata": {},
   "source": [
    "https://school.programmers.co.kr/learn/courses/30/lessons/181910"
   ]
  },
  {
   "cell_type": "code",
   "execution_count": 14,
   "id": "1d364f77-a7a4-4e15-b19b-1271fa6189d8",
   "metadata": {},
   "outputs": [],
   "source": [
    "def solution(my_string, n):\n",
    "    answer = my_string\n",
    "    return answer[-n:]"
   ]
  },
  {
   "cell_type": "markdown",
   "id": "b2e6e084-4ef3-4528-9856-46b3298bd3fd",
   "metadata": {},
   "source": [
    "https://school.programmers.co.kr/learn/courses/30/lessons/181873"
   ]
  },
  {
   "cell_type": "code",
   "execution_count": 15,
   "id": "d33d7ece-3cd6-4710-b091-4833cc4e39f0",
   "metadata": {},
   "outputs": [],
   "source": [
    "def solution(my_string, alp):\n",
    "    df = []\n",
    "    for i in range(len(my_string)):\n",
    "        if my_string[i] == alp:\n",
    "            df.append(my_string[i].upper())\n",
    "        else:\n",
    "            df.append(my_string[i])\n",
    "    return \"\".join(df)"
   ]
  },
  {
   "cell_type": "markdown",
   "id": "506d17b0-0216-48f5-b0f6-4425c566754f",
   "metadata": {},
   "source": [
    "https://school.programmers.co.kr/learn/courses/30/lessons/181842"
   ]
  },
  {
   "cell_type": "code",
   "execution_count": 17,
   "id": "f0aaa1ec-04c1-43ba-82bd-aa8a210b3062",
   "metadata": {},
   "outputs": [],
   "source": [
    "def solution(str1, str2):\n",
    "    answer = 0\n",
    "    if str1 in str2:\n",
    "        answer = 1\n",
    "    else:\n",
    "        answer = 0\n",
    "    return answer"
   ]
  },
  {
   "cell_type": "markdown",
   "id": "6e7e6a8d-45d8-486c-81d5-a5185a2f59fe",
   "metadata": {},
   "source": [
    "https://school.programmers.co.kr/learn/courses/30/lessons/181885"
   ]
  },
  {
   "cell_type": "code",
   "execution_count": 18,
   "id": "59af749e-f0ff-4c0b-8e95-07281dc72af4",
   "metadata": {},
   "outputs": [],
   "source": [
    "def solution(todo_list, finished):\n",
    "    answer = []\n",
    "    for i in range(len(todo_list)):\n",
    "        if finished[i] == False:\n",
    "            answer.append(todo_list[i])\n",
    "    return answer"
   ]
  },
  {
   "cell_type": "markdown",
   "id": "68671781-48d9-4186-8cc7-30853184d115",
   "metadata": {},
   "source": [
    "https://school.programmers.co.kr/learn/courses/30/lessons/181852"
   ]
  },
  {
   "cell_type": "code",
   "execution_count": 19,
   "id": "4bef5190-9c9c-40c2-b6d3-3192332ae3d4",
   "metadata": {},
   "outputs": [],
   "source": [
    "def solution(num_list):\n",
    "    answer = sorted(num_list)\n",
    "    return answer[5:]"
   ]
  },
  {
   "cell_type": "markdown",
   "id": "06f626a0-e61c-4231-ac95-507b513e2771",
   "metadata": {},
   "source": [
    "https://school.programmers.co.kr/learn/courses/30/lessons/181927"
   ]
  },
  {
   "cell_type": "code",
   "execution_count": 20,
   "id": "3a5cdd13-cd4b-438f-b752-39519717e275",
   "metadata": {},
   "outputs": [],
   "source": [
    "def solution(num_list):\n",
    "    answer = num_list\n",
    "    if answer[-1] > answer[-2]:\n",
    "        answer.append(answer[-1] - answer[-2])\n",
    "    else:\n",
    "        answer.append(answer[-1]*2)\n",
    "    return answer"
   ]
  },
  {
   "cell_type": "markdown",
   "id": "c37e6740-07a2-422e-b3a3-e94cfd7a558b",
   "metadata": {},
   "source": [
    "https://school.programmers.co.kr/learn/courses/30/lessons/120893"
   ]
  },
  {
   "cell_type": "code",
   "execution_count": 21,
   "id": "ad62767c-9613-4dc8-9d7e-43eb2339443a",
   "metadata": {},
   "outputs": [],
   "source": [
    "def solution(my_string):\n",
    "    answer = []\n",
    "    for i in my_string:\n",
    "        if i.isupper() == True:\n",
    "            answer.append(i.lower())\n",
    "        else:\n",
    "            answer.append(i.upper())\n",
    "    return \"\".join(answer)"
   ]
  },
  {
   "cell_type": "markdown",
   "id": "c0958fff-d5c6-455a-9e39-0ddd63fa5d66",
   "metadata": {},
   "source": [
    "https://school.programmers.co.kr/learn/courses/30/lessons/181908"
   ]
  },
  {
   "cell_type": "code",
   "execution_count": 22,
   "id": "a4d7c0b7-8202-4cff-ae16-2753aaf80f09",
   "metadata": {},
   "outputs": [],
   "source": [
    "def solution(my_string, is_suffix):\n",
    "    answer = 0\n",
    "    df = []\n",
    "    for i in range(len(my_string)):\n",
    "        df.append(my_string[i:])\n",
    "        \n",
    "    if is_suffix in df:\n",
    "        answer = 1\n",
    "    return answer"
   ]
  },
  {
   "cell_type": "markdown",
   "id": "7c5fabe2-6059-48ba-bba6-6ba058e8d88b",
   "metadata": {},
   "source": [
    "https://school.programmers.co.kr/learn/courses/30/lessons/181878"
   ]
  },
  {
   "cell_type": "code",
   "execution_count": 23,
   "id": "cdc0e562-99e3-422a-805a-74f62d1d17f8",
   "metadata": {},
   "outputs": [],
   "source": [
    "def solution(myString, pat):\n",
    "    answer = 0\n",
    "    if pat.lower() in myString.lower():\n",
    "        answer = 1\n",
    "    return answer"
   ]
  },
  {
   "cell_type": "markdown",
   "id": "ac81e33f-cfa2-4f3a-8db4-01ae28e3ebd5",
   "metadata": {},
   "source": [
    "https://school.programmers.co.kr/learn/courses/30/lessons/181849"
   ]
  },
  {
   "cell_type": "code",
   "execution_count": 24,
   "id": "ce736417-ac91-4695-b18d-c4f556bffe7d",
   "metadata": {},
   "outputs": [],
   "source": [
    "def solution(num_str):\n",
    "    answer = sum(list(map(int,num_str)))\n",
    "    return answer"
   ]
  },
  {
   "cell_type": "markdown",
   "id": "25f38a5d-5a67-4a1a-93e9-5ec9ed80f72b",
   "metadata": {},
   "source": [
    "https://school.programmers.co.kr/learn/courses/30/lessons/120839"
   ]
  },
  {
   "cell_type": "code",
   "execution_count": 26,
   "id": "b8145ecd-bad8-442a-9003-298d2e5cfcff",
   "metadata": {},
   "outputs": [],
   "source": [
    "def solution(rsp):\n",
    "    answer = []\n",
    "    for i in rsp:\n",
    "        if i == \"2\":\n",
    "            answer.append(\"0\")\n",
    "        elif i == \"0\":\n",
    "            answer.append(\"5\")\n",
    "        else:\n",
    "            answer.append(\"2\")\n",
    "    return \"\".join(answer)"
   ]
  },
  {
   "cell_type": "markdown",
   "id": "29b616ca-e52b-4f0f-9d40-def14c7ec820",
   "metadata": {},
   "source": [
    "https://school.programmers.co.kr/learn/courses/30/lessons/181856"
   ]
  },
  {
   "cell_type": "code",
   "execution_count": 27,
   "id": "b24fb815-5180-4c20-bc0a-97728166fbe8",
   "metadata": {},
   "outputs": [],
   "source": [
    "def solution(arr1, arr2):\n",
    "    answer = 0\n",
    "    if len(arr1) < len(arr2):\n",
    "        answer = -1\n",
    "    elif len(arr1) == len(arr2):\n",
    "        if sum(arr1) > sum(arr2):\n",
    "            answer = 1\n",
    "        elif sum(arr1) < sum(arr2):\n",
    "            answer = -1\n",
    "    else:\n",
    "        answer = 1\n",
    "    return answer"
   ]
  },
  {
   "cell_type": "markdown",
   "id": "4e3f7268-70e2-4341-9a15-b45c29cfc6e5",
   "metadata": {},
   "source": [
    "https://school.programmers.co.kr/learn/courses/30/lessons/120837"
   ]
  },
  {
   "cell_type": "code",
   "execution_count": 28,
   "id": "09d20fbe-9cd8-454b-9107-a6fc424fd30d",
   "metadata": {},
   "outputs": [],
   "source": [
    "def solution(hp):\n",
    "    answer = 0\n",
    "    answer += hp // 5\n",
    "    hp = hp % 5\n",
    "    answer += hp // 3\n",
    "    hp = hp % 3\n",
    "    answer += hp\n",
    "    \n",
    "    return answer"
   ]
  },
  {
   "cell_type": "markdown",
   "id": "e95c13d4-033a-4e4c-bfc5-c495be241e82",
   "metadata": {},
   "source": [
    "https://school.programmers.co.kr/learn/courses/30/lessons/181844"
   ]
  },
  {
   "cell_type": "code",
   "execution_count": 29,
   "id": "57f4ad71-06c3-4bb1-aafb-27d226fe070d",
   "metadata": {},
   "outputs": [],
   "source": [
    "def solution(arr, delete_list):\n",
    "    answer = []\n",
    "    \n",
    "    for i in arr:\n",
    "        if i not in delete_list:\n",
    "            answer.append(i)\n",
    "    return answer"
   ]
  },
  {
   "cell_type": "markdown",
   "id": "c925dae9-e81b-40dd-9e95-d276940f8cb9",
   "metadata": {},
   "source": [
    "https://school.programmers.co.kr/learn/courses/30/lessons/181854"
   ]
  },
  {
   "cell_type": "code",
   "execution_count": 31,
   "id": "ea4a7cfe-dfd7-4f49-9849-9b185556754b",
   "metadata": {},
   "outputs": [],
   "source": [
    "def solution(arr, n):\n",
    "    for idx, val in enumerate(arr):\n",
    "        if len(arr) % 2 == 0:\n",
    "            if idx % 2 == 1:\n",
    "                arr[idx] += n\n",
    "        else:\n",
    "            if idx % 2 == 0:\n",
    "                arr[idx] += n\n",
    "    \n",
    "    return arr"
   ]
  },
  {
   "cell_type": "markdown",
   "id": "4bc6dfa1-d723-4aea-b381-12772f401d41",
   "metadata": {},
   "source": [
    "https://school.programmers.co.kr/learn/courses/30/lessons/181840"
   ]
  },
  {
   "cell_type": "code",
   "execution_count": 1,
   "id": "8d543739-00b1-4bf3-aaf3-fdc6432509a7",
   "metadata": {},
   "outputs": [],
   "source": [
    "def solution(num_list, n):\n",
    "    answer = 0\n",
    "    if n in num_list:\n",
    "        answer = 1\n",
    "    return answer"
   ]
  },
  {
   "cell_type": "markdown",
   "id": "b0ed13e9-fc5a-43dc-9446-1d8b02ca73d3",
   "metadata": {},
   "source": [
    "https://school.programmers.co.kr/learn/courses/30/lessons/181835"
   ]
  },
  {
   "cell_type": "code",
   "execution_count": 2,
   "id": "fa58d620-d0bc-45bc-84e1-00df89ae706e",
   "metadata": {},
   "outputs": [],
   "source": [
    "def solution(arr, k):\n",
    "    answer = []\n",
    "    if k % 2 == 1:\n",
    "        for i in arr:\n",
    "            answer.append(k*i)\n",
    "    else:\n",
    "        for i in arr:\n",
    "            answer.append(i+k)\n",
    "            \n",
    "    return answer"
   ]
  },
  {
   "cell_type": "markdown",
   "id": "6bd0570b-ec5a-420f-9248-a156d43a6806",
   "metadata": {},
   "source": [
    "https://school.programmers.co.kr/learn/courses/30/lessons/181884"
   ]
  },
  {
   "cell_type": "code",
   "execution_count": 3,
   "id": "b5b5765a-0dbe-446c-bd90-cf48f8b7d0f8",
   "metadata": {},
   "outputs": [],
   "source": [
    "def solution(numbers, n) :\n",
    "    for i in range(len(numbers)+1) :\n",
    "        if sum(numbers[:i]) > n :\n",
    "            return sum(numbers[:i])"
   ]
  },
  {
   "cell_type": "markdown",
   "id": "bf3368d9-7262-4dc3-8274-122ebff3da7a",
   "metadata": {},
   "source": [
    "https://school.programmers.co.kr/learn/courses/30/lessons/120892"
   ]
  },
  {
   "cell_type": "code",
   "execution_count": 1,
   "id": "9345db1b-eb7e-4cae-a13a-75d0ce435931",
   "metadata": {},
   "outputs": [],
   "source": [
    "def solution(cipher, code):\n",
    "    answer = []\n",
    "    for i in range(len(cipher)):\n",
    "        if (i+1) % code == 0:\n",
    "            answer.append(cipher[i])\n",
    "    return \"\".join(answer)"
   ]
  },
  {
   "cell_type": "markdown",
   "id": "080654f4-f34c-4da8-bcb2-87e3ea9a8679",
   "metadata": {},
   "source": [
    "https://school.programmers.co.kr/learn/courses/30/lessons/181879"
   ]
  },
  {
   "cell_type": "code",
   "execution_count": 3,
   "id": "f14156d6-00ab-4bd1-be10-8b90f6538f55",
   "metadata": {},
   "outputs": [],
   "source": [
    "import math\n",
    "def solution(num_list):\n",
    "    answer = 0\n",
    "    if len(num_list) >= 11:\n",
    "        answer = sum(num_list)\n",
    "    else:\n",
    "        answer = math.prod(num_list)\n",
    "    return answer"
   ]
  },
  {
   "cell_type": "markdown",
   "id": "5c5ee41f-3e32-4ec1-a3a5-02ecc2b50ae6",
   "metadata": {},
   "source": [
    "https://school.programmers.co.kr/learn/courses/30/lessons/181875"
   ]
  },
  {
   "cell_type": "code",
   "execution_count": 1,
   "id": "86dad6e7-d68d-47ef-950a-ab42c44fc857",
   "metadata": {},
   "outputs": [],
   "source": [
    "def solution(strArr):\n",
    "    answer = []\n",
    "    for i in range(len(strArr)):\n",
    "        if i % 2 == 0:\n",
    "            answer.append(strArr[i].lower())\n",
    "        else:\n",
    "            answer.append(strArr[i].upper())\n",
    "    return answer"
   ]
  },
  {
   "cell_type": "markdown",
   "id": "4595c799-b5bc-4e9c-be02-4bd5c50c2a68",
   "metadata": {},
   "source": [
    "https://school.programmers.co.kr/learn/courses/30/lessons/181915"
   ]
  },
  {
   "cell_type": "code",
   "execution_count": 2,
   "id": "743206f4-d595-427b-a5d4-717ecd55ca02",
   "metadata": {},
   "outputs": [],
   "source": [
    "def solution(my_string, index_list):\n",
    "    answer = []\n",
    "    for i in index_list:\n",
    "        answer.append(my_string[i])\n",
    "    return \"\".join(answer)"
   ]
  },
  {
   "cell_type": "markdown",
   "id": "23aaf1aa-2067-44e3-b087-27530a2a16f4",
   "metadata": {},
   "source": [
    "https://school.programmers.co.kr/learn/courses/30/lessons/181898"
   ]
  },
  {
   "cell_type": "code",
   "execution_count": 3,
   "id": "5798de21-9716-495c-b972-c87576e5345f",
   "metadata": {},
   "outputs": [],
   "source": [
    "def solution(arr, idx):\n",
    "    answer = 0\n",
    "    try:\n",
    "        answer = arr.index(1, idx)\n",
    "    except:\n",
    "        answer = -1\n",
    "    \n",
    "    return answer"
   ]
  },
  {
   "cell_type": "markdown",
   "id": "9eb03f18-4178-4e01-afa6-6ff80fee9811",
   "metadata": {},
   "source": [
    "https://school.programmers.co.kr/learn/courses/30/lessons/181861"
   ]
  },
  {
   "cell_type": "code",
   "execution_count": 4,
   "id": "2d454ab9-7cf6-41fd-8af7-4d1de7dc8aa8",
   "metadata": {},
   "outputs": [],
   "source": [
    "import itertools\n",
    "def solution(arr):\n",
    "    answer = []\n",
    "    for i in arr:\n",
    "        answer.append([i]*i)\n",
    "    answer = list(itertools.chain(*answer))\n",
    "    return answer"
   ]
  },
  {
   "cell_type": "code",
   "execution_count": null,
   "id": "f25d0563-725e-4a5a-b87b-5ee54606135b",
   "metadata": {},
   "outputs": [],
   "source": []
  }
 ],
 "metadata": {
  "kernelspec": {
   "display_name": "Python 3 (ipykernel)",
   "language": "python",
   "name": "python3"
  },
  "language_info": {
   "codemirror_mode": {
    "name": "ipython",
    "version": 3
   },
   "file_extension": ".py",
   "mimetype": "text/x-python",
   "name": "python",
   "nbconvert_exporter": "python",
   "pygments_lexer": "ipython3",
   "version": "3.12.0"
  }
 },
 "nbformat": 4,
 "nbformat_minor": 5
}
